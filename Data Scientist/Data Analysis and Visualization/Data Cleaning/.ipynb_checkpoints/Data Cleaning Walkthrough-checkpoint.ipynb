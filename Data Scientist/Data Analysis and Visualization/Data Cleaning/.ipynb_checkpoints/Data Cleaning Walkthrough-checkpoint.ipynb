{
 "cells": [
  {
   "cell_type": "markdown",
   "metadata": {},
   "source": [
    "### step0\n",
    "#### Init data and data_files"
   ]
  },
  {
   "cell_type": "code",
   "execution_count": 13,
   "metadata": {
    "collapsed": true
   },
   "outputs": [],
   "source": [
    "import pandas as pd\n",
    "data_files = [\n",
    "    \"ap_2010.csv\",\n",
    "    \"class_size.csv\",\n",
    "    \"demographics.csv\",\n",
    "    \"graduation.csv\",\n",
    "    \"hs_directory.csv\",\n",
    "    \"sat_results.csv\"\n",
    "]\n",
    "data = {}"
   ]
  },
  {
   "cell_type": "markdown",
   "metadata": {},
   "source": [
    "### step1\n",
    "#### Read all csv files data into data dict, key is file name, value is dataframe fot this file"
   ]
  },
  {
   "cell_type": "code",
   "execution_count": 14,
   "metadata": {
    "collapsed": true
   },
   "outputs": [],
   "source": [
    "for file in data_files:\n",
    "    key = file.replace('.csv', '')\n",
    "    value = pd.read_csv('schools/{0}'.format(file))\n",
    "    data[key] = value"
   ]
  },
  {
   "cell_type": "markdown",
   "metadata": {},
   "source": [
    "### step2\n",
    "#### Read two txt files data into dataframe and concat them"
   ]
  },
  {
   "cell_type": "code",
   "execution_count": 15,
   "metadata": {},
   "outputs": [
    {
     "name": "stdout",
     "output_type": "stream",
     "text": [
      "     N_p    N_s   N_t  aca_p_11  aca_s_11  aca_t_11  aca_tot_11    bn  \\\n",
      "0   90.0    NaN  22.0       7.8       NaN       7.9         7.9  M015   \n",
      "1  161.0    NaN  34.0       7.8       NaN       9.1         8.4  M019   \n",
      "2  367.0    NaN  42.0       8.6       NaN       7.5         8.0  M020   \n",
      "3  151.0  145.0  29.0       8.5       7.4       7.8         7.9  M034   \n",
      "4   90.0    NaN  23.0       7.9       NaN       8.1         8.0  M063   \n",
      "\n",
      "   com_p_11  com_s_11   ...    t_q8c_1  t_q8c_2  t_q8c_3 t_q8c_4  t_q9  \\\n",
      "0       7.6       NaN   ...       29.0     67.0      5.0     0.0   NaN   \n",
      "1       7.6       NaN   ...       74.0     21.0      6.0     0.0   NaN   \n",
      "2       8.3       NaN   ...       33.0     35.0     20.0    13.0   NaN   \n",
      "3       8.2       5.9   ...       21.0     45.0     28.0     7.0   NaN   \n",
      "4       7.9       NaN   ...       59.0     36.0      5.0     0.0   NaN   \n",
      "\n",
      "   t_q9_1  t_q9_2  t_q9_3  t_q9_4  t_q9_5  \n",
      "0     5.0    14.0    52.0    24.0     5.0  \n",
      "1     3.0     6.0     3.0    78.0     9.0  \n",
      "2     3.0     5.0    16.0    70.0     5.0  \n",
      "3     0.0    18.0    32.0    39.0    11.0  \n",
      "4    10.0     5.0    10.0    60.0    15.0  \n",
      "\n",
      "[5 rows x 2773 columns]\n"
     ]
    }
   ],
   "source": [
    "all_survey = pd.read_csv('schools/survey_all.txt', delimiter='\\t', encoding=\"windows-1252\")\n",
    "d75_survey = pd.read_csv('schools/survey_d75.txt', delimiter='\\t', encoding=\"windows-1252\")\n",
    "survey = pd.concat([all_survey, d75_survey], axis=0)\n",
    "print(survey.head(5))"
   ]
  },
  {
   "cell_type": "markdown",
   "metadata": {},
   "source": [
    "### step3\n",
    "#### Rename dbn column and filter out useless columns and assign survey to data['survey']"
   ]
  },
  {
   "cell_type": "code",
   "execution_count": 16,
   "metadata": {},
   "outputs": [
    {
     "name": "stdout",
     "output_type": "stream",
     "text": [
      "      DBN  rr_s  rr_t  rr_p    N_s   N_t    N_p  saf_p_11  com_p_11  eng_p_11  \\\n",
      "0  01M015   NaN    88    60    NaN  22.0   90.0       8.5       7.6       7.5   \n",
      "1  01M019   NaN   100    60    NaN  34.0  161.0       8.4       7.6       7.6   \n",
      "2  01M020   NaN    88    73    NaN  42.0  367.0       8.9       8.3       8.3   \n",
      "3  01M034  89.0    73    50  145.0  29.0  151.0       8.8       8.2       8.0   \n",
      "4  01M063   NaN   100    60    NaN  23.0   90.0       8.7       7.9       8.1   \n",
      "\n",
      "      ...      eng_t_11  aca_t_11  saf_s_11  com_s_11  eng_s_11  aca_s_11  \\\n",
      "0     ...           7.6       7.9       NaN       NaN       NaN       NaN   \n",
      "1     ...           8.9       9.1       NaN       NaN       NaN       NaN   \n",
      "2     ...           6.8       7.5       NaN       NaN       NaN       NaN   \n",
      "3     ...           6.8       7.8       6.2       5.9       6.5       7.4   \n",
      "4     ...           7.8       8.1       NaN       NaN       NaN       NaN   \n",
      "\n",
      "   saf_tot_11  com_tot_11  eng_tot_11  aca_tot_11  \n",
      "0         8.0         7.7         7.5         7.9  \n",
      "1         8.5         8.1         8.2         8.4  \n",
      "2         8.2         7.3         7.5         8.0  \n",
      "3         7.3         6.7         7.1         7.9  \n",
      "4         8.5         7.6         7.9         8.0  \n",
      "\n",
      "[5 rows x 23 columns]\n"
     ]
    }
   ],
   "source": [
    "survey['DBN'] = survey['dbn']\n",
    "survey_columns = [\"DBN\", \"rr_s\", \"rr_t\", \"rr_p\", \"N_s\", \"N_t\", \"N_p\", \"saf_p_11\", \"com_p_11\", \"eng_p_11\", \"aca_p_11\", \"saf_t_11\", \"com_t_11\", \"eng_t_11\", \"aca_t_11\", \"saf_s_11\", \"com_s_11\", \"eng_s_11\", \"aca_s_11\", \"saf_tot_11\", \"com_tot_11\", \"eng_tot_11\", \"aca_tot_11\"]\n",
    "survey = survey.loc[:,survey_columns]\n",
    "data[\"survey\"] = survey\n",
    "print(data['survey'].head())"
   ]
  },
  {
   "cell_type": "markdown",
   "metadata": {},
   "source": [
    "### step4\n",
    "#### Rename dbn column for hs_directory and restructure DBN of class_size"
   ]
  },
  {
   "cell_type": "code",
   "execution_count": 17,
   "metadata": {},
   "outputs": [
    {
     "name": "stdout",
     "output_type": "stream",
     "text": [
      "['CSD', 'BOROUGH', 'SCHOOL CODE', 'SCHOOL NAME', 'GRADE ', 'PROGRAM TYPE', 'CORE SUBJECT (MS CORE and 9-12 ONLY)', 'CORE COURSE (MS CORE and 9-12 ONLY)', 'SERVICE CATEGORY(K-9* ONLY)', 'NUMBER OF STUDENTS / SEATS FILLED', 'NUMBER OF SECTIONS', 'AVERAGE CLASS SIZE', 'SIZE OF SMALLEST CLASS', 'SIZE OF LARGEST CLASS', 'DATA SOURCE', 'SCHOOLWIDE PUPIL-TEACHER RATIO', 'padded_csd', 'DBN']\n"
     ]
    }
   ],
   "source": [
    "data['hs_directory']['DBN'] =  data['hs_directory']['dbn']\n",
    "def pad_csd(num):\n",
    "    return str(num) if len(str(num)) > 1 else str(num).zfill(2)\n",
    "\n",
    "data[\"class_size\"][\"padded_csd\"] = data[\"class_size\"][\"CSD\"].apply(pad_csd)\n",
    "data[\"class_size\"][\"DBN\"] = data[\"class_size\"][\"padded_csd\"] + data[\"class_size\"][\"SCHOOL CODE\"]\n",
    "print(list(data[\"class_size\"].columns.values))"
   ]
  },
  {
   "cell_type": "markdown",
   "metadata": {},
   "source": [
    "### step5\n",
    "#### Combining The SAT Scores for sat_results "
   ]
  },
  {
   "cell_type": "code",
   "execution_count": 18,
   "metadata": {},
   "outputs": [
    {
     "name": "stdout",
     "output_type": "stream",
     "text": [
      "      DBN                                    SCHOOL NAME  \\\n",
      "0  01M292  HENRY STREET SCHOOL FOR INTERNATIONAL STUDIES   \n",
      "1  01M448            UNIVERSITY NEIGHBORHOOD HIGH SCHOOL   \n",
      "2  01M450                     EAST SIDE COMMUNITY SCHOOL   \n",
      "3  01M458                      FORSYTH SATELLITE ACADEMY   \n",
      "4  01M509                        MARTA VALLE HIGH SCHOOL   \n",
      "\n",
      "  Num of SAT Test Takers  SAT Critical Reading Avg. Score  \\\n",
      "0                     29                            355.0   \n",
      "1                     91                            383.0   \n",
      "2                     70                            377.0   \n",
      "3                      7                            414.0   \n",
      "4                     44                            390.0   \n",
      "\n",
      "   SAT Math Avg. Score  SAT Writing Avg. Score  sat_score  \n",
      "0                404.0                   363.0     1122.0  \n",
      "1                423.0                   366.0     1172.0  \n",
      "2                402.0                   370.0     1149.0  \n",
      "3                401.0                   359.0     1174.0  \n",
      "4                433.0                   384.0     1207.0  \n"
     ]
    }
   ],
   "source": [
    "cols = ['SAT Math Avg. Score', 'SAT Critical Reading Avg. Score', 'SAT Writing Avg. Score']\n",
    "for c in cols:\n",
    "    data[\"sat_results\"][c] = pd.to_numeric(data[\"sat_results\"][c], errors=\"coerce\")\n",
    "\n",
    "data['sat_results']['sat_score'] = data['sat_results'][cols[0]] + data['sat_results'][cols[1]] + data['sat_results'][cols[2]]\n",
    "print(data['sat_results'].head())"
   ]
  },
  {
   "cell_type": "markdown",
   "metadata": {},
   "source": [
    "### step6\n",
    "#### Use regular expression to extract lat and lon from Location 1 in the hs_directory "
   ]
  },
  {
   "cell_type": "code",
   "execution_count": 19,
   "metadata": {},
   "outputs": [
    {
     "name": "stdout",
     "output_type": "stream",
     "text": [
      "      dbn                                        school_name       boro  \\\n",
      "0  17K548                Brooklyn School for Music & Theatre   Brooklyn   \n",
      "1  09X543                   High School for Violin and Dance      Bronx   \n",
      "2  09X327        Comprehensive Model School Project M.S. 327      Bronx   \n",
      "3  02M280     Manhattan Early College School for Advertising  Manhattan   \n",
      "4  28Q680  Queens Gateway to Health Sciences Secondary Sc...     Queens   \n",
      "\n",
      "  building_code    phone_number    fax_number grade_span_min  grade_span_max  \\\n",
      "0          K440    718-230-6250  718-230-6262              9              12   \n",
      "1          X400    718-842-0687  718-589-9849              9              12   \n",
      "2          X240    718-294-8111  718-294-8109              6              12   \n",
      "3          M520  718-935-3477             NaN              9              10   \n",
      "4          Q695    718-969-3155  718-969-3552              6              12   \n",
      "\n",
      "  expgrade_span_min  expgrade_span_max    ...      \\\n",
      "0               NaN                NaN    ...       \n",
      "1               NaN                NaN    ...       \n",
      "2               NaN                NaN    ...       \n",
      "3                 9               14.0    ...       \n",
      "4               NaN                NaN    ...       \n",
      "\n",
      "                        priority05 priority06 priority07 priority08  \\\n",
      "0                              NaN        NaN        NaN        NaN   \n",
      "1                              NaN        NaN        NaN        NaN   \n",
      "2  Then to New York City residents        NaN        NaN        NaN   \n",
      "3                              NaN        NaN        NaN        NaN   \n",
      "4                              NaN        NaN        NaN        NaN   \n",
      "\n",
      "  priority09 priority10                                         Location 1  \\\n",
      "0        NaN        NaN  883 Classon Avenue\\nBrooklyn, NY 11225\\n(40.67...   \n",
      "1        NaN        NaN  1110 Boston Road\\nBronx, NY 10456\\n(40.8276026...   \n",
      "2        NaN        NaN  1501 Jerome Avenue\\nBronx, NY 10452\\n(40.84241...   \n",
      "3        NaN        NaN  411 Pearl Street\\nNew York, NY 10038\\n(40.7106...   \n",
      "4        NaN        NaN  160-20 Goethals Avenue\\nJamaica, NY 11432\\n(40...   \n",
      "\n",
      "      DBN        lat        lon  \n",
      "0  17K548  40.670299 -73.961648  \n",
      "1  09X543  40.827603 -73.904475  \n",
      "2  09X327  40.842414 -73.916162  \n",
      "3  02M280  40.710679 -74.000807  \n",
      "4  28Q680  40.718810 -73.806500  \n",
      "\n",
      "[5 rows x 61 columns]\n"
     ]
    }
   ],
   "source": [
    "import re\n",
    "def find_lat(loc):\n",
    "    coords = re.findall(\"\\(.+, .+\\)\", loc)\n",
    "    lat = coords[0].split(\",\")[0].replace(\"(\", \"\")\n",
    "    return lat\n",
    "\n",
    "def find_lon(loc):\n",
    "    coords = re.findall(\"\\(.+, .+\\)\", loc)\n",
    "    lon = coords[0].split(\",\")[1].replace(\")\", \"\").strip()\n",
    "    return lon\n",
    "\n",
    "data[\"hs_directory\"][\"lat\"] = data[\"hs_directory\"][\"Location 1\"].apply(find_lat)\n",
    "data[\"hs_directory\"][\"lon\"] = data[\"hs_directory\"][\"Location 1\"].apply(find_lon)\n",
    "\n",
    "data[\"hs_directory\"][\"lat\"] = pd.to_numeric(data[\"hs_directory\"][\"lat\"], errors=\"coerce\")\n",
    "data[\"hs_directory\"][\"lon\"] = pd.to_numeric(data[\"hs_directory\"][\"lon\"], errors=\"coerce\")\n",
    "print(data[\"hs_directory\"].head())"
   ]
  },
  {
   "cell_type": "markdown",
   "metadata": {},
   "source": [
    "#### Along the way, we've learned how to:\n",
    "\n",
    "#### 1. Handle files with different formats and columns\n",
    "#### 2. Prepare to merge multiple files\n",
    "#### 3. Use text processing to extract coordinates from a string\n",
    "#### 4. Convert columns from strings to numbers"
   ]
  },
  {
   "cell_type": "code",
   "execution_count": null,
   "metadata": {
    "collapsed": true
   },
   "outputs": [],
   "source": []
  }
 ],
 "metadata": {
  "kernelspec": {
   "display_name": "Python 3",
   "language": "python",
   "name": "python3"
  },
  "language_info": {
   "codemirror_mode": {
    "name": "ipython",
    "version": 3
   },
   "file_extension": ".py",
   "mimetype": "text/x-python",
   "name": "python",
   "nbconvert_exporter": "python",
   "pygments_lexer": "ipython3",
   "version": "3.5.2"
  }
 },
 "nbformat": 4,
 "nbformat_minor": 2
}
